{
  "nbformat": 4,
  "nbformat_minor": 0,
  "metadata": {
    "colab": {
      "provenance": [],
      "authorship_tag": "ABX9TyNmg0l4BExvq9AaDRbzoH6A",
      "include_colab_link": true
    },
    "kernelspec": {
      "name": "python3",
      "display_name": "Python 3"
    },
    "language_info": {
      "name": "python"
    },
    "accelerator": "GPU",
    "gpuClass": "standard"
  },
  "cells": [
    {
      "cell_type": "markdown",
      "metadata": {
        "id": "view-in-github",
        "colab_type": "text"
      },
      "source": [
        "<a href=\"https://colab.research.google.com/github/jwalx/Tensorflow/blob/main/00_fundamentals.ipynb\" target=\"_parent\"><img src=\"https://colab.research.google.com/assets/colab-badge.svg\" alt=\"Open In Colab\"/></a>"
      ]
    },
    {
      "cell_type": "markdown",
      "source": [
        "# Topics Covered\n",
        "* Introduction to tensors\n",
        "* Getting information  from tensors\n",
        "* Manipulating tensors\n",
        "* Tensors and Numpy\n",
        "* Using tf.function(a way to speed up your regular python functions)\n",
        "* Using GPU with Tensorflow\n",
        "* Excercises to try "
      ],
      "metadata": {
        "id": "TnAEUx9vgK2W"
      }
    },
    {
      "cell_type": "markdown",
      "source": [
        "Introduction to Tensors"
      ],
      "metadata": {
        "id": "CKcNodvdgLdb"
      }
    },
    {
      "cell_type": "code",
      "source": [
        "# Import tensorflow\n",
        "import tensorflow as tf\n",
        "print(tf.__version__)"
      ],
      "metadata": {
        "colab": {
          "base_uri": "https://localhost:8080/"
        },
        "id": "UO9_ymVygMOt",
        "outputId": "8d3e0fd8-85f5-4c9a-b374-1ac6534ac12e"
      },
      "execution_count": null,
      "outputs": [
        {
          "output_type": "stream",
          "name": "stdout",
          "text": [
            "2.9.2\n"
          ]
        }
      ]
    },
    {
      "cell_type": "code",
      "source": [
        "# Creating tensors with tf.constant()\n",
        "scalar = tf.constant(7)\n",
        "scalar"
      ],
      "metadata": {
        "colab": {
          "base_uri": "https://localhost:8080/"
        },
        "id": "EOiHYW9RmrkG",
        "outputId": "593d281e-66ed-45ce-c0f5-b351c878ca7c"
      },
      "execution_count": null,
      "outputs": [
        {
          "output_type": "execute_result",
          "data": {
            "text/plain": [
              "<tf.Tensor: shape=(), dtype=int32, numpy=7>"
            ]
          },
          "metadata": {},
          "execution_count": 2
        }
      ]
    },
    {
      "cell_type": "code",
      "source": [
        "# Check the number of dimensions\n",
        "scalar.ndim"
      ],
      "metadata": {
        "colab": {
          "base_uri": "https://localhost:8080/"
        },
        "id": "vej5bKCZmr7A",
        "outputId": "4c076cbf-7ff2-4645-e5b5-b4f862d80873"
      },
      "execution_count": null,
      "outputs": [
        {
          "output_type": "execute_result",
          "data": {
            "text/plain": [
              "0"
            ]
          },
          "metadata": {},
          "execution_count": 3
        }
      ]
    },
    {
      "cell_type": "code",
      "source": [
        "# create a vector\n",
        "vector =tf.constant([10,10])\n",
        "vector"
      ],
      "metadata": {
        "colab": {
          "base_uri": "https://localhost:8080/"
        },
        "id": "wv8x8VntmsHa",
        "outputId": "b2a0c9cd-c63e-4007-da87-4c1476419527"
      },
      "execution_count": null,
      "outputs": [
        {
          "output_type": "execute_result",
          "data": {
            "text/plain": [
              "<tf.Tensor: shape=(2,), dtype=int32, numpy=array([10, 10], dtype=int32)>"
            ]
          },
          "metadata": {},
          "execution_count": 4
        }
      ]
    },
    {
      "cell_type": "code",
      "source": [
        "vector.ndim"
      ],
      "metadata": {
        "colab": {
          "base_uri": "https://localhost:8080/"
        },
        "id": "9PA9zWNHnYgZ",
        "outputId": "a7f31b25-4cce-420d-c986-b8347a7451ff"
      },
      "execution_count": null,
      "outputs": [
        {
          "output_type": "execute_result",
          "data": {
            "text/plain": [
              "1"
            ]
          },
          "metadata": {},
          "execution_count": 5
        }
      ]
    },
    {
      "cell_type": "code",
      "source": [
        "#create a matrix\n",
        "matrix = tf.constant([[10,7],\n",
        "                     [7,10]])\n",
        "matrix.ndim"
      ],
      "metadata": {
        "colab": {
          "base_uri": "https://localhost:8080/"
        },
        "id": "D9HRQtQmnZVV",
        "outputId": "5cbcb8fd-1d3d-4804-89bb-bf812d5afbd2"
      },
      "execution_count": null,
      "outputs": [
        {
          "output_type": "execute_result",
          "data": {
            "text/plain": [
              "2"
            ]
          },
          "metadata": {},
          "execution_count": 6
        }
      ]
    },
    {
      "cell_type": "code",
      "source": [
        "3 # create another matrix\n",
        "another_matrix = tf.constant([[20.,3.],\n",
        "                              [10.,7.],\n",
        "                              [3.,20.]],dtype = tf.float16)\n",
        "another_matrix.ndim"
      ],
      "metadata": {
        "colab": {
          "base_uri": "https://localhost:8080/"
        },
        "id": "EKsXJR7MnZf_",
        "outputId": "bc84e8a4-8ca7-4796-8564-0b49400fab6f"
      },
      "execution_count": null,
      "outputs": [
        {
          "output_type": "execute_result",
          "data": {
            "text/plain": [
              "2"
            ]
          },
          "metadata": {},
          "execution_count": 7
        }
      ]
    },
    {
      "cell_type": "code",
      "source": [
        "# lets create a tensor\n",
        "tensor  =tf.constant([[[1,3,5],\n",
        "                      [4,5,6]],\n",
        "                      [[6,7,8],\n",
        "                      [3,4,5]],\n",
        "                      [[1,2,3],\n",
        "                       [4,5,6]]])\n",
        "tensor\n",
        "tensor.ndim"
      ],
      "metadata": {
        "colab": {
          "base_uri": "https://localhost:8080/"
        },
        "id": "YBC6HX4OnZsB",
        "outputId": "a9d68aea-59a4-43fe-b23f-171c53084811"
      },
      "execution_count": null,
      "outputs": [
        {
          "output_type": "execute_result",
          "data": {
            "text/plain": [
              "3"
            ]
          },
          "metadata": {},
          "execution_count": 8
        }
      ]
    },
    {
      "cell_type": "markdown",
      "source": [
        "Creating tensors with `tf.Variable`"
      ],
      "metadata": {
        "id": "d97Rfn5onZ3r"
      }
    },
    {
      "cell_type": "code",
      "source": [
        "changeable_tensor =tf.Variable([[10,7],\n",
        "                               [7,10]])\n",
        "unchangeable_tensor=tf.constant([10,7])\n",
        "changeable_tensor,unchangeable_tensor"
      ],
      "metadata": {
        "colab": {
          "base_uri": "https://localhost:8080/"
        },
        "id": "sBC5oOUEnaDP",
        "outputId": "6bdfb3ee-bcb5-487e-a2de-78a533e087b9"
      },
      "execution_count": null,
      "outputs": [
        {
          "output_type": "execute_result",
          "data": {
            "text/plain": [
              "(<tf.Variable 'Variable:0' shape=(2, 2) dtype=int32, numpy=\n",
              " array([[10,  7],\n",
              "        [ 7, 10]], dtype=int32)>,\n",
              " <tf.Tensor: shape=(2,), dtype=int32, numpy=array([10,  7], dtype=int32)>)"
            ]
          },
          "metadata": {},
          "execution_count": 9
        }
      ]
    },
    {
      "cell_type": "code",
      "source": [
        "changeable_tensor[0].assign([7,2])\n",
        "changeable_tensor"
      ],
      "metadata": {
        "colab": {
          "base_uri": "https://localhost:8080/"
        },
        "id": "1y6h4k8BmsTK",
        "outputId": "eccf8f17-af75-4826-bb2a-3ca8b2c2123a"
      },
      "execution_count": null,
      "outputs": [
        {
          "output_type": "execute_result",
          "data": {
            "text/plain": [
              "<tf.Variable 'Variable:0' shape=(2, 2) dtype=int32, numpy=\n",
              "array([[ 7,  2],\n",
              "       [ 7, 10]], dtype=int32)>"
            ]
          },
          "metadata": {},
          "execution_count": 10
        }
      ]
    },
    {
      "cell_type": "code",
      "source": [
        "# Creating random tensors\n",
        "rand_1=tf.random.Generator.from_seed(42)\n",
        "rand_1=rand_1.normal(shape=(3,2))\n",
        "rand_2 = tf.random.Generator.from_seed(42)\n",
        "rand_2 = rand_2.normal(shape=(3,3))\n",
        "rand_1,rand_2"
      ],
      "metadata": {
        "colab": {
          "base_uri": "https://localhost:8080/"
        },
        "id": "v9Cfo49xmsdt",
        "outputId": "9510471a-78a8-4d07-9cfa-3a8f2ece0e74"
      },
      "execution_count": null,
      "outputs": [
        {
          "output_type": "execute_result",
          "data": {
            "text/plain": [
              "(<tf.Tensor: shape=(3, 2), dtype=float32, numpy=\n",
              " array([[-0.7565803 , -0.06854702],\n",
              "        [ 0.07595026, -1.2573844 ],\n",
              "        [-0.23193765, -1.8107855 ]], dtype=float32)>,\n",
              " <tf.Tensor: shape=(3, 3), dtype=float32, numpy=\n",
              " array([[-0.7565803 , -0.06854702,  0.07595026],\n",
              "        [-1.2573844 , -0.23193765, -1.8107855 ],\n",
              "        [ 0.09988727, -0.50998646, -0.7535806 ]], dtype=float32)>)"
            ]
          },
          "metadata": {},
          "execution_count": 11
        }
      ]
    },
    {
      "cell_type": "markdown",
      "source": [
        "# Shuffle the order of elements in tensor"
      ],
      "metadata": {
        "id": "vA-XtI9m1ueR"
      }
    },
    {
      "cell_type": "code",
      "source": [
        "not_shuffled = tf.constant([[10,7],\n",
        "                            [3,4],\n",
        "                            [2,5]])\n",
        "#shuffle our non_shuffled tensor\n",
        "  "
      ],
      "metadata": {
        "id": "E-yWUevd1ugj"
      },
      "execution_count": null,
      "outputs": []
    },
    {
      "cell_type": "code",
      "source": [
        "#shuffle our non_shuffled tensor\n",
        "tf.random.shuffle(not_shuffled,seed=42)\n"
      ],
      "metadata": {
        "colab": {
          "base_uri": "https://localhost:8080/"
        },
        "id": "7uFRoPYm1uiz",
        "outputId": "4f0e814d-566b-4251-c46f-f02907bd5a49"
      },
      "execution_count": null,
      "outputs": [
        {
          "output_type": "execute_result",
          "data": {
            "text/plain": [
              "<tf.Tensor: shape=(3, 2), dtype=int32, numpy=\n",
              "array([[ 2,  5],\n",
              "       [ 3,  4],\n",
              "       [10,  7]], dtype=int32)>"
            ]
          },
          "metadata": {},
          "execution_count": 13
        }
      ]
    },
    {
      "cell_type": "code",
      "source": [
        "not_shuffled "
      ],
      "metadata": {
        "colab": {
          "base_uri": "https://localhost:8080/"
        },
        "id": "tsvJ2ZAo1ulT",
        "outputId": "9eb0e206-46aa-4e16-97d9-cb42e7fcb29c"
      },
      "execution_count": null,
      "outputs": [
        {
          "output_type": "execute_result",
          "data": {
            "text/plain": [
              "<tf.Tensor: shape=(3, 2), dtype=int32, numpy=\n",
              "array([[10,  7],\n",
              "       [ 3,  4],\n",
              "       [ 2,  5]], dtype=int32)>"
            ]
          },
          "metadata": {},
          "execution_count": 14
        }
      ]
    },
    {
      "cell_type": "markdown",
      "source": [
        "Random tensors excercise\n"
      ],
      "metadata": {
        "id": "eskcxht11unz"
      }
    },
    {
      "cell_type": "code",
      "source": [
        "rand_3 =tf.random.normal(shape=(2,2))\n",
        "rand_3"
      ],
      "metadata": {
        "colab": {
          "base_uri": "https://localhost:8080/"
        },
        "id": "OeRFWU-L4WiT",
        "outputId": "358dd5ac-a93f-48c2-ad6a-ef225c67fbab"
      },
      "execution_count": null,
      "outputs": [
        {
          "output_type": "execute_result",
          "data": {
            "text/plain": [
              "<tf.Tensor: shape=(2, 2), dtype=float32, numpy=\n",
              "array([[1.5706747 , 2.5905995 ],\n",
              "       [1.109828  , 0.97826046]], dtype=float32)>"
            ]
          },
          "metadata": {},
          "execution_count": 15
        }
      ]
    },
    {
      "cell_type": "code",
      "source": [
        "rand_4 = tf.random.Generator.from_seed(42)\n",
        "rand_4 =rand_4.uniform(shape=(2,3))\n",
        "rand_4\n"
      ],
      "metadata": {
        "colab": {
          "base_uri": "https://localhost:8080/"
        },
        "id": "r9dj3lrO4WwN",
        "outputId": "f8254ed0-4b21-4375-be4d-2a2c65ef4566"
      },
      "execution_count": null,
      "outputs": [
        {
          "output_type": "execute_result",
          "data": {
            "text/plain": [
              "<tf.Tensor: shape=(2, 3), dtype=float32, numpy=\n",
              "array([[0.7493447 , 0.73561966, 0.45230794],\n",
              "       [0.49039817, 0.1889317 , 0.52027524]], dtype=float32)>"
            ]
          },
          "metadata": {},
          "execution_count": 16
        }
      ]
    },
    {
      "cell_type": "code",
      "source": [
        "#tf.random.set_seed(42)\n",
        "tf.random.shuffle(rand_4)\n",
        "tf.random.shuffle(rand_3)"
      ],
      "metadata": {
        "colab": {
          "base_uri": "https://localhost:8080/"
        },
        "id": "ZItdMDrX4XM2",
        "outputId": "7dda2fed-ec12-448a-a247-809287c3d3a3"
      },
      "execution_count": null,
      "outputs": [
        {
          "output_type": "execute_result",
          "data": {
            "text/plain": [
              "<tf.Tensor: shape=(2, 2), dtype=float32, numpy=\n",
              "array([[1.109828  , 0.97826046],\n",
              "       [1.5706747 , 2.5905995 ]], dtype=float32)>"
            ]
          },
          "metadata": {},
          "execution_count": 17
        }
      ]
    },
    {
      "cell_type": "code",
      "source": [
        "# Create tensors of ones\n",
        "tf.ones([10,7])"
      ],
      "metadata": {
        "colab": {
          "base_uri": "https://localhost:8080/"
        },
        "id": "M7eIi2Im4XtB",
        "outputId": "3852c306-7e60-40fc-8392-64d25bc3d92e"
      },
      "execution_count": null,
      "outputs": [
        {
          "output_type": "execute_result",
          "data": {
            "text/plain": [
              "<tf.Tensor: shape=(10, 7), dtype=float32, numpy=\n",
              "array([[1., 1., 1., 1., 1., 1., 1.],\n",
              "       [1., 1., 1., 1., 1., 1., 1.],\n",
              "       [1., 1., 1., 1., 1., 1., 1.],\n",
              "       [1., 1., 1., 1., 1., 1., 1.],\n",
              "       [1., 1., 1., 1., 1., 1., 1.],\n",
              "       [1., 1., 1., 1., 1., 1., 1.],\n",
              "       [1., 1., 1., 1., 1., 1., 1.],\n",
              "       [1., 1., 1., 1., 1., 1., 1.],\n",
              "       [1., 1., 1., 1., 1., 1., 1.],\n",
              "       [1., 1., 1., 1., 1., 1., 1.]], dtype=float32)>"
            ]
          },
          "metadata": {},
          "execution_count": 18
        }
      ]
    },
    {
      "cell_type": "code",
      "source": [
        "# create tensors of zeroes\n",
        "tf.zeros([2,4])\n"
      ],
      "metadata": {
        "colab": {
          "base_uri": "https://localhost:8080/"
        },
        "id": "pqVrCADC4YUy",
        "outputId": "e9b8e517-a02e-411c-d36d-734512bdc466"
      },
      "execution_count": null,
      "outputs": [
        {
          "output_type": "execute_result",
          "data": {
            "text/plain": [
              "<tf.Tensor: shape=(2, 4), dtype=float32, numpy=\n",
              "array([[0., 0., 0., 0.],\n",
              "       [0., 0., 0., 0.]], dtype=float32)>"
            ]
          },
          "metadata": {},
          "execution_count": 19
        }
      ]
    },
    {
      "cell_type": "code",
      "source": [
        "# turning numpy arrays to tensors\n",
        "import numpy as np\n",
        "numpy_A = np.arange(1,25,dtype=np.int32)\n",
        "\n",
        "#X= tf.constant(some_matrix) "
      ],
      "metadata": {
        "id": "oMFqBaBS4Yhh"
      },
      "execution_count": null,
      "outputs": []
    },
    {
      "cell_type": "code",
      "source": [
        "a= tf.constant(numpy_A,shape=(2,3,4))\n",
        "a"
      ],
      "metadata": {
        "colab": {
          "base_uri": "https://localhost:8080/"
        },
        "id": "Gv4KdX-D4YvY",
        "outputId": "c95e8ed8-81bd-491a-86d5-d4f688ab3220"
      },
      "execution_count": null,
      "outputs": [
        {
          "output_type": "execute_result",
          "data": {
            "text/plain": [
              "<tf.Tensor: shape=(2, 3, 4), dtype=int32, numpy=\n",
              "array([[[ 1,  2,  3,  4],\n",
              "        [ 5,  6,  7,  8],\n",
              "        [ 9, 10, 11, 12]],\n",
              "\n",
              "       [[13, 14, 15, 16],\n",
              "        [17, 18, 19, 20],\n",
              "        [21, 22, 23, 24]]], dtype=int32)>"
            ]
          },
          "metadata": {},
          "execution_count": 21
        }
      ]
    },
    {
      "cell_type": "code",
      "source": [
        "b=tf.Variable(numpy_A)\n",
        "b"
      ],
      "metadata": {
        "colab": {
          "base_uri": "https://localhost:8080/"
        },
        "id": "3C3U4-Fk4Y8J",
        "outputId": "02c302f6-224d-46c0-d64c-9e2423b86df6"
      },
      "execution_count": null,
      "outputs": [
        {
          "output_type": "execute_result",
          "data": {
            "text/plain": [
              "<tf.Variable 'Variable:0' shape=(24,) dtype=int32, numpy=\n",
              "array([ 1,  2,  3,  4,  5,  6,  7,  8,  9, 10, 11, 12, 13, 14, 15, 16, 17,\n",
              "       18, 19, 20, 21, 22, 23, 24], dtype=int32)>"
            ]
          },
          "metadata": {},
          "execution_count": 22
        }
      ]
    },
    {
      "cell_type": "markdown",
      "source": [
        "# Getting information from tensors\n",
        "\n",
        "* Shape\n",
        "* Rank\n",
        "* Axis or Dimension\n",
        "* Size"
      ],
      "metadata": {
        "id": "ZjRybYdB9prR"
      }
    },
    {
      "cell_type": "code",
      "source": [
        "rank_4_tensor = tf.zeros(shape=[2,3,4,5])\n",
        "rank_4_tensor"
      ],
      "metadata": {
        "colab": {
          "base_uri": "https://localhost:8080/"
        },
        "id": "FWH3wWmc9ptb",
        "outputId": "7fa9a37e-89bb-4260-9fff-163a31754a25"
      },
      "execution_count": null,
      "outputs": [
        {
          "output_type": "execute_result",
          "data": {
            "text/plain": [
              "<tf.Tensor: shape=(2, 3, 4, 5), dtype=float32, numpy=\n",
              "array([[[[0., 0., 0., 0., 0.],\n",
              "         [0., 0., 0., 0., 0.],\n",
              "         [0., 0., 0., 0., 0.],\n",
              "         [0., 0., 0., 0., 0.]],\n",
              "\n",
              "        [[0., 0., 0., 0., 0.],\n",
              "         [0., 0., 0., 0., 0.],\n",
              "         [0., 0., 0., 0., 0.],\n",
              "         [0., 0., 0., 0., 0.]],\n",
              "\n",
              "        [[0., 0., 0., 0., 0.],\n",
              "         [0., 0., 0., 0., 0.],\n",
              "         [0., 0., 0., 0., 0.],\n",
              "         [0., 0., 0., 0., 0.]]],\n",
              "\n",
              "\n",
              "       [[[0., 0., 0., 0., 0.],\n",
              "         [0., 0., 0., 0., 0.],\n",
              "         [0., 0., 0., 0., 0.],\n",
              "         [0., 0., 0., 0., 0.]],\n",
              "\n",
              "        [[0., 0., 0., 0., 0.],\n",
              "         [0., 0., 0., 0., 0.],\n",
              "         [0., 0., 0., 0., 0.],\n",
              "         [0., 0., 0., 0., 0.]],\n",
              "\n",
              "        [[0., 0., 0., 0., 0.],\n",
              "         [0., 0., 0., 0., 0.],\n",
              "         [0., 0., 0., 0., 0.],\n",
              "         [0., 0., 0., 0., 0.]]]], dtype=float32)>"
            ]
          },
          "metadata": {},
          "execution_count": 23
        }
      ]
    },
    {
      "cell_type": "code",
      "source": [
        "rank_4_tensor.shape,rank_4_tensor.ndim,tf.size(rank_4_tensor)"
      ],
      "metadata": {
        "colab": {
          "base_uri": "https://localhost:8080/"
        },
        "id": "X4SXNh569pv6",
        "outputId": "2afef48d-671f-4aa3-a788-cea942ec2d2a"
      },
      "execution_count": null,
      "outputs": [
        {
          "output_type": "execute_result",
          "data": {
            "text/plain": [
              "(TensorShape([2, 3, 4, 5]), 4, <tf.Tensor: shape=(), dtype=int32, numpy=120>)"
            ]
          },
          "metadata": {},
          "execution_count": 24
        }
      ]
    },
    {
      "cell_type": "code",
      "source": [
        "# Get various attributes of our tensor\n",
        "print(\"Datatype of every element:\",rank_4_tensor.dtype)\n",
        "print(\"number of dimension(rank):\",rank_4_tensor.ndim)\n",
        "print(\"shape of tensor:\",rank_4_tensor.shape)\n",
        "print(\"Size of the tensor:\",tf.size(rank_4_tensor))"
      ],
      "metadata": {
        "id": "Huwg1sFZ9p1C",
        "colab": {
          "base_uri": "https://localhost:8080/"
        },
        "outputId": "55b87765-7e50-4461-c7bf-a0f2106ea170"
      },
      "execution_count": null,
      "outputs": [
        {
          "output_type": "stream",
          "name": "stdout",
          "text": [
            "Datatype of every element: <dtype: 'float32'>\n",
            "number of dimension(rank): 4\n",
            "shape of tensor: (2, 3, 4, 5)\n",
            "Size of the tensor: tf.Tensor(120, shape=(), dtype=int32)\n"
          ]
        }
      ]
    },
    {
      "cell_type": "code",
      "source": [
        "rank_4_tensor[:2,:2,:2,:2]"
      ],
      "metadata": {
        "id": "FyacDt7a_jty",
        "colab": {
          "base_uri": "https://localhost:8080/"
        },
        "outputId": "7354b71f-ae6f-4f01-e69f-3b79b2463921"
      },
      "execution_count": null,
      "outputs": [
        {
          "output_type": "execute_result",
          "data": {
            "text/plain": [
              "<tf.Tensor: shape=(2, 2, 2, 2), dtype=float32, numpy=\n",
              "array([[[[0., 0.],\n",
              "         [0., 0.]],\n",
              "\n",
              "        [[0., 0.],\n",
              "         [0., 0.]]],\n",
              "\n",
              "\n",
              "       [[[0., 0.],\n",
              "         [0., 0.]],\n",
              "\n",
              "        [[0., 0.],\n",
              "         [0., 0.]]]], dtype=float32)>"
            ]
          },
          "metadata": {},
          "execution_count": 26
        }
      ]
    },
    {
      "cell_type": "code",
      "source": [
        "#Get each dimension of each index except for the final one\n",
        "rank_4_tensor[:1,:1,:1]"
      ],
      "metadata": {
        "id": "iYgAh-Y3_jrL",
        "colab": {
          "base_uri": "https://localhost:8080/"
        },
        "outputId": "f3510224-dbdb-4162-974c-550b86bc807f"
      },
      "execution_count": null,
      "outputs": [
        {
          "output_type": "execute_result",
          "data": {
            "text/plain": [
              "<tf.Tensor: shape=(1, 1, 1, 5), dtype=float32, numpy=array([[[[0., 0., 0., 0., 0.]]]], dtype=float32)>"
            ]
          },
          "metadata": {},
          "execution_count": 27
        }
      ]
    },
    {
      "cell_type": "code",
      "source": [
        "#create a rank 2 tensor \n",
        "rank_2_tensor=tf.constant([[10,7],\n",
        "                           [7,10]])"
      ],
      "metadata": {
        "id": "P6YgBNhy_jo0"
      },
      "execution_count": null,
      "outputs": []
    },
    {
      "cell_type": "code",
      "source": [
        "#get last element of each row\n",
        "rank_2_tensor[:,-1]"
      ],
      "metadata": {
        "id": "QYzBUZRx_jmK",
        "colab": {
          "base_uri": "https://localhost:8080/"
        },
        "outputId": "b475c999-1b32-4d7c-e22d-c032808d256d"
      },
      "execution_count": null,
      "outputs": [
        {
          "output_type": "execute_result",
          "data": {
            "text/plain": [
              "<tf.Tensor: shape=(2,), dtype=int32, numpy=array([ 7, 10], dtype=int32)>"
            ]
          },
          "metadata": {},
          "execution_count": 29
        }
      ]
    },
    {
      "cell_type": "code",
      "source": [
        "#add extra dimension to our rank 2 tensor\n",
        "rank_3_tensor =rank_2_tensor[...,tf.newaxis]\n",
        "rank_3_tensor"
      ],
      "metadata": {
        "id": "yc3oli3H_jkC",
        "colab": {
          "base_uri": "https://localhost:8080/"
        },
        "outputId": "83e53793-e33e-44b5-b609-18e5aefe1de5"
      },
      "execution_count": null,
      "outputs": [
        {
          "output_type": "execute_result",
          "data": {
            "text/plain": [
              "<tf.Tensor: shape=(2, 2, 1), dtype=int32, numpy=\n",
              "array([[[10],\n",
              "        [ 7]],\n",
              "\n",
              "       [[ 7],\n",
              "        [10]]], dtype=int32)>"
            ]
          },
          "metadata": {},
          "execution_count": 30
        }
      ]
    },
    {
      "cell_type": "code",
      "source": [
        "#alternative to tf.newaxis\n",
        "tf.expand_dims(rank_2_tensor,axis=1)\n"
      ],
      "metadata": {
        "id": "Dw_X3FIm_jhE",
        "colab": {
          "base_uri": "https://localhost:8080/"
        },
        "outputId": "fe94c230-08e8-4b70-bda8-4cd04e2e1829"
      },
      "execution_count": null,
      "outputs": [
        {
          "output_type": "execute_result",
          "data": {
            "text/plain": [
              "<tf.Tensor: shape=(2, 1, 2), dtype=int32, numpy=\n",
              "array([[[10,  7]],\n",
              "\n",
              "       [[ 7, 10]]], dtype=int32)>"
            ]
          },
          "metadata": {},
          "execution_count": 31
        }
      ]
    },
    {
      "cell_type": "markdown",
      "source": [
        "# Tensor Operation\n",
        "\n",
        "Basic operations\n",
        "`+`,`-`,`*`,`/`"
      ],
      "metadata": {
        "id": "xxbHGyBk9p3U"
      }
    },
    {
      "cell_type": "code",
      "source": [
        "#you can add values to a tensor using the addition operator \n",
        "tensor =tf.constant([[2,3],[3,4]])\n",
        "tensor+10"
      ],
      "metadata": {
        "id": "-CaK9xBU9p5s",
        "colab": {
          "base_uri": "https://localhost:8080/"
        },
        "outputId": "44f58899-a414-4664-ed51-5905b9c04fc4"
      },
      "execution_count": null,
      "outputs": [
        {
          "output_type": "execute_result",
          "data": {
            "text/plain": [
              "<tf.Tensor: shape=(2, 2), dtype=int32, numpy=\n",
              "array([[12, 13],\n",
              "       [13, 14]], dtype=int32)>"
            ]
          },
          "metadata": {},
          "execution_count": 32
        }
      ]
    },
    {
      "cell_type": "code",
      "source": [
        "#we can use tensorflow "
      ],
      "metadata": {
        "id": "B9-HqUEo9p8W"
      },
      "execution_count": null,
      "outputs": []
    },
    {
      "cell_type": "code",
      "source": [
        "tf.multiply(tensor,2)"
      ],
      "metadata": {
        "id": "qK47F8C09p-m",
        "colab": {
          "base_uri": "https://localhost:8080/"
        },
        "outputId": "3aa1d9f1-1ce3-481d-f3aa-1ed52594f634"
      },
      "execution_count": null,
      "outputs": [
        {
          "output_type": "execute_result",
          "data": {
            "text/plain": [
              "<tf.Tensor: shape=(2, 2), dtype=int32, numpy=\n",
              "array([[4, 6],\n",
              "       [6, 8]], dtype=int32)>"
            ]
          },
          "metadata": {},
          "execution_count": 34
        }
      ]
    },
    {
      "cell_type": "markdown",
      "source": [
        "# In Machine Learning Matrix multiplication is one of the most common tensor operations\n"
      ],
      "metadata": {
        "id": "isD-VNuj9qBK"
      }
    },
    {
      "cell_type": "code",
      "source": [
        "tf.matmul(rand_3,rand_4)"
      ],
      "metadata": {
        "colab": {
          "base_uri": "https://localhost:8080/"
        },
        "id": "aI1b5aFjo8gA",
        "outputId": "40cc2211-2ec3-4581-ed2a-401af791bad7"
      },
      "execution_count": null,
      "outputs": [
        {
          "output_type": "execute_result",
          "data": {
            "text/plain": [
              "<tf.Tensor: shape=(2, 3), dtype=float32, numpy=\n",
              "array([[2.447402 , 1.6448655, 2.0582533],\n",
              "       [1.3113809, 1.0012357, 1.0109487]], dtype=float32)>"
            ]
          },
          "metadata": {},
          "execution_count": 35
        }
      ]
    },
    {
      "cell_type": "code",
      "source": [
        "tensor * tensor"
      ],
      "metadata": {
        "colab": {
          "base_uri": "https://localhost:8080/"
        },
        "id": "1hv72UrHo88B",
        "outputId": "b9181bd2-9f2d-4dfd-ee79-caf98ebb74a6"
      },
      "execution_count": null,
      "outputs": [
        {
          "output_type": "execute_result",
          "data": {
            "text/plain": [
              "<tf.Tensor: shape=(2, 2), dtype=int32, numpy=\n",
              "array([[ 4,  9],\n",
              "       [ 9, 16]], dtype=int32)>"
            ]
          },
          "metadata": {},
          "execution_count": 36
        }
      ]
    },
    {
      "cell_type": "code",
      "source": [
        "matrix_1=tf.constant([[[1,2,5],\n",
        "                      [7,2,1],\n",
        "                      [3,3,3]]])\n",
        "matrix_2 =tf.constant([[3,5],\n",
        "                       [6,5],\n",
        "                       [1,8]])"
      ],
      "metadata": {
        "id": "GntnDvj2o-v9"
      },
      "execution_count": null,
      "outputs": []
    },
    {
      "cell_type": "code",
      "source": [
        "new_matrix=tf.matmul(matrix_1,matrix_2)\n",
        "new_matrix\n"
      ],
      "metadata": {
        "colab": {
          "base_uri": "https://localhost:8080/"
        },
        "id": "dQx9F2RAo-98",
        "outputId": "2e9a08ce-0345-4368-86e1-64cdfee5b06b"
      },
      "execution_count": null,
      "outputs": [
        {
          "output_type": "execute_result",
          "data": {
            "text/plain": [
              "<tf.Tensor: shape=(1, 3, 2), dtype=int32, numpy=\n",
              "array([[[20, 55],\n",
              "        [34, 53],\n",
              "        [30, 54]]], dtype=int32)>"
            ]
          },
          "metadata": {},
          "execution_count": 38
        }
      ]
    },
    {
      "cell_type": "code",
      "source": [],
      "metadata": {
        "id": "D0841cKYo_Ns"
      },
      "execution_count": null,
      "outputs": []
    },
    {
      "cell_type": "code",
      "source": [
        "X=tf.constant([[1,2],\n",
        "               [3,4],\n",
        "               [5,6]])\n",
        "Y=tf.constant([[7,8],\n",
        "               [9,10],\n",
        "               [11,12]])"
      ],
      "metadata": {
        "id": "MzmGUkJHo_cV"
      },
      "execution_count": null,
      "outputs": []
    },
    {
      "cell_type": "code",
      "source": [
        "X=tf.transpose(X)\n",
        "X"
      ],
      "metadata": {
        "colab": {
          "base_uri": "https://localhost:8080/"
        },
        "id": "52lO_y64o_pH",
        "outputId": "283f7da0-ce4f-4ea9-c8de-9cb667fc0172"
      },
      "execution_count": null,
      "outputs": [
        {
          "output_type": "execute_result",
          "data": {
            "text/plain": [
              "<tf.Tensor: shape=(2, 3), dtype=int32, numpy=\n",
              "array([[1, 3, 5],\n",
              "       [2, 4, 6]], dtype=int32)>"
            ]
          },
          "metadata": {},
          "execution_count": 40
        }
      ]
    },
    {
      "cell_type": "code",
      "source": [
        "Z=tf.matmul(X,Y)\n",
        "Z"
      ],
      "metadata": {
        "colab": {
          "base_uri": "https://localhost:8080/"
        },
        "id": "Cb0mKSnWo_2T",
        "outputId": "330af564-6c05-468d-fe1a-d7be0e4cf2fb"
      },
      "execution_count": null,
      "outputs": [
        {
          "output_type": "execute_result",
          "data": {
            "text/plain": [
              "<tf.Tensor: shape=(2, 2), dtype=int32, numpy=\n",
              "array([[ 89,  98],\n",
              "       [116, 128]], dtype=int32)>"
            ]
          },
          "metadata": {},
          "execution_count": 41
        }
      ]
    },
    {
      "cell_type": "markdown",
      "source": [
        "# Dot product\n",
        "\n",
        "ALso referred as dot product\n",
        "\n",
        "* tf.matmul()\n",
        "* tf.tensordot()"
      ],
      "metadata": {
        "id": "pmY_81xDpADx"
      }
    },
    {
      "cell_type": "code",
      "source": [
        "# Perform the dot product on X And Y (requires X or Y to be transposed)"
      ],
      "metadata": {
        "id": "TJaLsndGpAO6"
      },
      "execution_count": null,
      "outputs": []
    },
    {
      "cell_type": "code",
      "source": [
        "\n",
        "X=X*0\n",
        "X"
      ],
      "metadata": {
        "colab": {
          "base_uri": "https://localhost:8080/"
        },
        "id": "7QZDx8Oi5OWE",
        "outputId": "4c0a0f42-f720-49f3-d7dc-e04d6073d247"
      },
      "execution_count": null,
      "outputs": [
        {
          "output_type": "execute_result",
          "data": {
            "text/plain": [
              "<tf.Tensor: shape=(2, 3), dtype=int32, numpy=\n",
              "array([[0, 0, 0],\n",
              "       [0, 0, 0]], dtype=int32)>"
            ]
          },
          "metadata": {},
          "execution_count": 43
        }
      ]
    },
    {
      "cell_type": "code",
      "source": [
        "A =tf.constant([[1,2],\n",
        "                [3,4],\n",
        "                [5,6]])\n",
        "A,Y"
      ],
      "metadata": {
        "colab": {
          "base_uri": "https://localhost:8080/"
        },
        "id": "zSDr3l1x5OhJ",
        "outputId": "be08ef44-fd67-49ec-fc07-2e01e26671cd"
      },
      "execution_count": null,
      "outputs": [
        {
          "output_type": "execute_result",
          "data": {
            "text/plain": [
              "(<tf.Tensor: shape=(3, 2), dtype=int32, numpy=\n",
              " array([[1, 2],\n",
              "        [3, 4],\n",
              "        [5, 6]], dtype=int32)>, <tf.Tensor: shape=(3, 2), dtype=int32, numpy=\n",
              " array([[ 7,  8],\n",
              "        [ 9, 10],\n",
              "        [11, 12]], dtype=int32)>)"
            ]
          },
          "metadata": {},
          "execution_count": 44
        }
      ]
    },
    {
      "cell_type": "code",
      "source": [
        "tf.tensordot(tf.transpose(A),Y,axes =1)"
      ],
      "metadata": {
        "colab": {
          "base_uri": "https://localhost:8080/"
        },
        "id": "npk7c0lL5Oss",
        "outputId": "fd772b5a-a4d3-4ba8-c8a6-ffef7c2dbbae"
      },
      "execution_count": null,
      "outputs": [
        {
          "output_type": "execute_result",
          "data": {
            "text/plain": [
              "<tf.Tensor: shape=(2, 2), dtype=int32, numpy=\n",
              "array([[ 89,  98],\n",
              "       [116, 128]], dtype=int32)>"
            ]
          },
          "metadata": {},
          "execution_count": 45
        }
      ]
    },
    {
      "cell_type": "code",
      "source": [
        "#perform matrix multiplication between X and Y\n",
        "tf.matmul(A,tf.transpose(Y))"
      ],
      "metadata": {
        "colab": {
          "base_uri": "https://localhost:8080/"
        },
        "id": "aeO8EBuQ5O4U",
        "outputId": "1664a477-a387-42da-9871-2e70048d7b0b"
      },
      "execution_count": null,
      "outputs": [
        {
          "output_type": "execute_result",
          "data": {
            "text/plain": [
              "<tf.Tensor: shape=(3, 3), dtype=int32, numpy=\n",
              "array([[ 23,  29,  35],\n",
              "       [ 53,  67,  81],\n",
              "       [ 83, 105, 127]], dtype=int32)>"
            ]
          },
          "metadata": {},
          "execution_count": 46
        }
      ]
    },
    {
      "cell_type": "markdown",
      "source": [
        "# Changing the datatype of tensors"
      ],
      "metadata": {
        "id": "NzIfSQ8u_4PW"
      }
    },
    {
      "cell_type": "code",
      "source": [
        "#Create  a new tensor with default datatype(int32)\n",
        "B= tf.constant([3,4])\n",
        "B.dtype"
      ],
      "metadata": {
        "colab": {
          "base_uri": "https://localhost:8080/"
        },
        "id": "AimygGeo5PMp",
        "outputId": "80b40c15-d4ff-4459-c8d2-5578f078229e"
      },
      "execution_count": null,
      "outputs": [
        {
          "output_type": "execute_result",
          "data": {
            "text/plain": [
              "tf.int32"
            ]
          },
          "metadata": {},
          "execution_count": 47
        }
      ]
    },
    {
      "cell_type": "code",
      "source": [
        "C=tf.constant([1.7,7.4])\n",
        "C.dtype"
      ],
      "metadata": {
        "colab": {
          "base_uri": "https://localhost:8080/"
        },
        "id": "ziyq-AAw5PWQ",
        "outputId": "284ce903-1158-4495-a697-103d9a5e6252"
      },
      "execution_count": null,
      "outputs": [
        {
          "output_type": "execute_result",
          "data": {
            "text/plain": [
              "tf.float32"
            ]
          },
          "metadata": {},
          "execution_count": 48
        }
      ]
    },
    {
      "cell_type": "code",
      "source": [
        "B =tf.cast(B,dtype=tf.float16)\n",
        "B"
      ],
      "metadata": {
        "colab": {
          "base_uri": "https://localhost:8080/"
        },
        "id": "lDWFsmZ25Pd3",
        "outputId": "0bfdfa62-a7f0-4949-c3e5-8484d2bb61a9"
      },
      "execution_count": null,
      "outputs": [
        {
          "output_type": "execute_result",
          "data": {
            "text/plain": [
              "<tf.Tensor: shape=(2,), dtype=float16, numpy=array([3., 4.], dtype=float16)>"
            ]
          },
          "metadata": {},
          "execution_count": 49
        }
      ]
    },
    {
      "cell_type": "markdown",
      "source": [
        "# aggregrating tensors\n",
        "aggregating tensors = condensing from them from multiple values down to a smaller amount of values"
      ],
      "metadata": {
        "id": "6UXQohy15Pnu"
      }
    },
    {
      "cell_type": "code",
      "source": [
        "# Get the absolute values\n",
        "D=tf.constant([-7,-10])\n",
        "D\n",
        "tf.abs(D)"
      ],
      "metadata": {
        "colab": {
          "base_uri": "https://localhost:8080/"
        },
        "id": "tH-UtU9vDRCN",
        "outputId": "a513332d-db14-47ce-d3b9-baec6ff89ffc"
      },
      "execution_count": null,
      "outputs": [
        {
          "output_type": "execute_result",
          "data": {
            "text/plain": [
              "<tf.Tensor: shape=(2,), dtype=int32, numpy=array([ 7, 10], dtype=int32)>"
            ]
          },
          "metadata": {},
          "execution_count": 50
        }
      ]
    },
    {
      "cell_type": "markdown",
      "source": [
        "Lets go through the following forms of aggregation:\n",
        "\n",
        "* get the minimum \n",
        "* get the maximum\n",
        "* mean of a tensor\n",
        "* sum of a tensor\n"
      ],
      "metadata": {
        "id": "JhF8qk-XDROO"
      }
    },
    {
      "cell_type": "code",
      "source": [
        "tf.reduce_min(D)"
      ],
      "metadata": {
        "colab": {
          "base_uri": "https://localhost:8080/"
        },
        "id": "tkSmWHQ7DRXc",
        "outputId": "83c05b62-4ee2-42c3-f83c-4b29d9b75fa6"
      },
      "execution_count": null,
      "outputs": [
        {
          "output_type": "execute_result",
          "data": {
            "text/plain": [
              "<tf.Tensor: shape=(), dtype=int32, numpy=-10>"
            ]
          },
          "metadata": {},
          "execution_count": 51
        }
      ]
    },
    {
      "cell_type": "code",
      "source": [
        "tf.reduce_max(D)\n"
      ],
      "metadata": {
        "colab": {
          "base_uri": "https://localhost:8080/"
        },
        "id": "ygP4zAL1DRgd",
        "outputId": "2db5726c-7e2c-4c15-d168-0a759250970e"
      },
      "execution_count": null,
      "outputs": [
        {
          "output_type": "execute_result",
          "data": {
            "text/plain": [
              "<tf.Tensor: shape=(), dtype=int32, numpy=-7>"
            ]
          },
          "metadata": {},
          "execution_count": 52
        }
      ]
    },
    {
      "cell_type": "code",
      "source": [
        "tf.reduce_mean(D)\n"
      ],
      "metadata": {
        "colab": {
          "base_uri": "https://localhost:8080/"
        },
        "id": "jNvklDM6DRrN",
        "outputId": "30a3a5f9-bd33-4676-9147-d4070ea78344"
      },
      "execution_count": null,
      "outputs": [
        {
          "output_type": "execute_result",
          "data": {
            "text/plain": [
              "<tf.Tensor: shape=(), dtype=int32, numpy=-8>"
            ]
          },
          "metadata": {},
          "execution_count": 53
        }
      ]
    },
    {
      "cell_type": "code",
      "source": [
        "tf.reduce_sum(D)"
      ],
      "metadata": {
        "colab": {
          "base_uri": "https://localhost:8080/"
        },
        "id": "jUkx42wvDR3E",
        "outputId": "a3c9907a-0867-453e-bfad-cd4f63d33e4f"
      },
      "execution_count": null,
      "outputs": [
        {
          "output_type": "execute_result",
          "data": {
            "text/plain": [
              "<tf.Tensor: shape=(), dtype=int32, numpy=-17>"
            ]
          },
          "metadata": {},
          "execution_count": 54
        }
      ]
    },
    {
      "cell_type": "code",
      "source": [
        "D=tf.cast(D,dtype=tf.float32)\n",
        "tf.math.reduce_variance(D)\n"
      ],
      "metadata": {
        "colab": {
          "base_uri": "https://localhost:8080/"
        },
        "id": "iunpPT2YDSAo",
        "outputId": "329f8161-60ce-42bb-eabb-e29d68c4358a"
      },
      "execution_count": null,
      "outputs": [
        {
          "output_type": "execute_result",
          "data": {
            "text/plain": [
              "<tf.Tensor: shape=(), dtype=float32, numpy=2.25>"
            ]
          },
          "metadata": {},
          "execution_count": 55
        }
      ]
    },
    {
      "cell_type": "code",
      "source": [
        "import tensorflow_probability as tfp\n",
        "tfp.stats.stddev(D)"
      ],
      "metadata": {
        "colab": {
          "base_uri": "https://localhost:8080/"
        },
        "id": "8q7XpSuCDSKS",
        "outputId": "5e40572f-35d7-46b6-b94b-6b80fd0bf3cd"
      },
      "execution_count": null,
      "outputs": [
        {
          "output_type": "execute_result",
          "data": {
            "text/plain": [
              "<tf.Tensor: shape=(), dtype=float32, numpy=1.5>"
            ]
          },
          "metadata": {},
          "execution_count": 56
        }
      ]
    },
    {
      "cell_type": "markdown",
      "source": [
        "#find positional max and min"
      ],
      "metadata": {
        "id": "AXUp-ulr5PxA"
      }
    },
    {
      "cell_type": "code",
      "source": [
        "tf.random.set_seed(42)\n",
        "F =tf.random.uniform(shape =[50])\n",
        "F"
      ],
      "metadata": {
        "colab": {
          "base_uri": "https://localhost:8080/"
        },
        "id": "L8ALAeZbGxR1",
        "outputId": "ce4be995-c2d1-4fc3-cdfa-e1b77bdd7caa"
      },
      "execution_count": null,
      "outputs": [
        {
          "output_type": "execute_result",
          "data": {
            "text/plain": [
              "<tf.Tensor: shape=(50,), dtype=float32, numpy=\n",
              "array([0.6645621 , 0.44100678, 0.3528825 , 0.46448255, 0.03366041,\n",
              "       0.68467236, 0.74011743, 0.8724445 , 0.22632635, 0.22319686,\n",
              "       0.3103881 , 0.7223358 , 0.13318717, 0.5480639 , 0.5746088 ,\n",
              "       0.8996835 , 0.00946367, 0.5212307 , 0.6345445 , 0.1993283 ,\n",
              "       0.72942245, 0.54583454, 0.10756552, 0.6767061 , 0.6602763 ,\n",
              "       0.33695042, 0.60141766, 0.21062577, 0.8527372 , 0.44062173,\n",
              "       0.9485276 , 0.23752594, 0.81179297, 0.5263394 , 0.494308  ,\n",
              "       0.21612847, 0.8457197 , 0.8718841 , 0.3083862 , 0.6868038 ,\n",
              "       0.23764038, 0.7817228 , 0.9671384 , 0.06870162, 0.79873943,\n",
              "       0.66028714, 0.5871513 , 0.16461694, 0.7381023 , 0.32054043],\n",
              "      dtype=float32)>"
            ]
          },
          "metadata": {},
          "execution_count": 57
        }
      ]
    },
    {
      "cell_type": "code",
      "source": [
        "# Find positional max\n",
        "tf.argmax(F)"
      ],
      "metadata": {
        "colab": {
          "base_uri": "https://localhost:8080/"
        },
        "id": "bYcBndGsGxUX",
        "outputId": "b94ac8d5-0750-4142-a4cf-a0c85cc47707"
      },
      "execution_count": null,
      "outputs": [
        {
          "output_type": "execute_result",
          "data": {
            "text/plain": [
              "<tf.Tensor: shape=(), dtype=int64, numpy=42>"
            ]
          },
          "metadata": {},
          "execution_count": 58
        }
      ]
    },
    {
      "cell_type": "code",
      "source": [
        "#index on our largest value position\n",
        "F[tf.argmax(F)]"
      ],
      "metadata": {
        "colab": {
          "base_uri": "https://localhost:8080/"
        },
        "id": "jlxsmc6OGxW-",
        "outputId": "fb0de4f2-3d47-46f9-bff6-4953fc8ada0d"
      },
      "execution_count": null,
      "outputs": [
        {
          "output_type": "execute_result",
          "data": {
            "text/plain": [
              "<tf.Tensor: shape=(), dtype=float32, numpy=0.9671384>"
            ]
          },
          "metadata": {},
          "execution_count": 59
        }
      ]
    },
    {
      "cell_type": "code",
      "source": [
        "F[tf.argmin(F)],tf.argmin(F)"
      ],
      "metadata": {
        "colab": {
          "base_uri": "https://localhost:8080/"
        },
        "id": "U5RnjMOwGxZe",
        "outputId": "9ce3ad3b-72ef-4f2a-9f8c-caf468321059"
      },
      "execution_count": null,
      "outputs": [
        {
          "output_type": "execute_result",
          "data": {
            "text/plain": [
              "(<tf.Tensor: shape=(), dtype=float32, numpy=0.009463668>,\n",
              " <tf.Tensor: shape=(), dtype=int64, numpy=16>)"
            ]
          },
          "metadata": {},
          "execution_count": 60
        }
      ]
    },
    {
      "cell_type": "code",
      "source": [
        "tf.reduce_min(F) == F[tf.argmin(F)]"
      ],
      "metadata": {
        "colab": {
          "base_uri": "https://localhost:8080/"
        },
        "id": "3JAeOnweGxbz",
        "outputId": "ed493fce-297b-4219-8f52-25b14001a6fe"
      },
      "execution_count": null,
      "outputs": [
        {
          "output_type": "execute_result",
          "data": {
            "text/plain": [
              "<tf.Tensor: shape=(), dtype=bool, numpy=True>"
            ]
          },
          "metadata": {},
          "execution_count": 61
        }
      ]
    },
    {
      "cell_type": "code",
      "source": [
        "tf.reduce_max(F)==F[tf.argmax(F)]"
      ],
      "metadata": {
        "colab": {
          "base_uri": "https://localhost:8080/"
        },
        "id": "j5rEr8fFGxez",
        "outputId": "b05de3a6-35ba-42ab-e99c-78b974e4bbf8"
      },
      "execution_count": null,
      "outputs": [
        {
          "output_type": "execute_result",
          "data": {
            "text/plain": [
              "<tf.Tensor: shape=(), dtype=bool, numpy=True>"
            ]
          },
          "metadata": {},
          "execution_count": 62
        }
      ]
    },
    {
      "cell_type": "markdown",
      "source": [
        "# One hot encoding tensors"
      ],
      "metadata": {
        "id": "h2QrsN5DaBOw"
      }
    },
    {
      "cell_type": "code",
      "source": [
        "#create a list of indices\n",
        "some_list=[0,1,2,3] #could be red,green,blue, purple\n",
        "\n",
        "#one hot encoding our list of indices\n",
        "tf.one_hot(some_list,depth=4)"
      ],
      "metadata": {
        "id": "kaJCn41VGxhR",
        "colab": {
          "base_uri": "https://localhost:8080/"
        },
        "outputId": "7017f3e3-cbc9-49e9-f021-3723746d6b7a"
      },
      "execution_count": null,
      "outputs": [
        {
          "output_type": "execute_result",
          "data": {
            "text/plain": [
              "<tf.Tensor: shape=(4, 4), dtype=float32, numpy=\n",
              "array([[1., 0., 0., 0.],\n",
              "       [0., 1., 0., 0.],\n",
              "       [0., 0., 1., 0.],\n",
              "       [0., 0., 0., 1.]], dtype=float32)>"
            ]
          },
          "metadata": {},
          "execution_count": 63
        }
      ]
    },
    {
      "cell_type": "code",
      "source": [
        "#specific custom values for one hot encoding\n",
        "tf.one_hot(some_list,depth=10,on_value=\"yo I love Aarya\", off_value=\"I also like Taylor\") "
      ],
      "metadata": {
        "id": "q0Xmrp6UGxj5",
        "colab": {
          "base_uri": "https://localhost:8080/"
        },
        "outputId": "f898e0a3-6d44-44ee-b8a7-c390b74a4e7e"
      },
      "execution_count": null,
      "outputs": [
        {
          "output_type": "execute_result",
          "data": {
            "text/plain": [
              "<tf.Tensor: shape=(4, 10), dtype=string, numpy=\n",
              "array([[b'yo I love Aarya', b'I also like Taylor', b'I also like Taylor',\n",
              "        b'I also like Taylor', b'I also like Taylor',\n",
              "        b'I also like Taylor', b'I also like Taylor',\n",
              "        b'I also like Taylor', b'I also like Taylor',\n",
              "        b'I also like Taylor'],\n",
              "       [b'I also like Taylor', b'yo I love Aarya', b'I also like Taylor',\n",
              "        b'I also like Taylor', b'I also like Taylor',\n",
              "        b'I also like Taylor', b'I also like Taylor',\n",
              "        b'I also like Taylor', b'I also like Taylor',\n",
              "        b'I also like Taylor'],\n",
              "       [b'I also like Taylor', b'I also like Taylor', b'yo I love Aarya',\n",
              "        b'I also like Taylor', b'I also like Taylor',\n",
              "        b'I also like Taylor', b'I also like Taylor',\n",
              "        b'I also like Taylor', b'I also like Taylor',\n",
              "        b'I also like Taylor'],\n",
              "       [b'I also like Taylor', b'I also like Taylor',\n",
              "        b'I also like Taylor', b'yo I love Aarya', b'I also like Taylor',\n",
              "        b'I also like Taylor', b'I also like Taylor',\n",
              "        b'I also like Taylor', b'I also like Taylor',\n",
              "        b'I also like Taylor']], dtype=object)>"
            ]
          },
          "metadata": {},
          "execution_count": 64
        }
      ]
    },
    {
      "cell_type": "code",
      "source": [
        "indices=[2,3,-4,1,-3]\n",
        "tf.one_hot(indices,depth=5)"
      ],
      "metadata": {
        "id": "fWdqCCTXGxmm",
        "colab": {
          "base_uri": "https://localhost:8080/"
        },
        "outputId": "4750b094-c831-454e-90c1-fdce5a775253"
      },
      "execution_count": null,
      "outputs": [
        {
          "output_type": "execute_result",
          "data": {
            "text/plain": [
              "<tf.Tensor: shape=(5, 5), dtype=float32, numpy=\n",
              "array([[0., 0., 1., 0., 0.],\n",
              "       [0., 0., 0., 1., 0.],\n",
              "       [0., 0., 0., 0., 0.],\n",
              "       [0., 1., 0., 0., 0.],\n",
              "       [0., 0., 0., 0., 0.]], dtype=float32)>"
            ]
          },
          "metadata": {},
          "execution_count": 65
        }
      ]
    },
    {
      "cell_type": "markdown",
      "source": [
        "# Squaring,Log,Square root"
      ],
      "metadata": {
        "id": "0ggOz_CCGxpE"
      }
    },
    {
      "cell_type": "code",
      "source": [
        "H=tf.range(1,10)\n",
        "H"
      ],
      "metadata": {
        "id": "PZSfkjqxGxrz",
        "colab": {
          "base_uri": "https://localhost:8080/"
        },
        "outputId": "9d2034ba-381e-4982-bff4-bc76808cede3"
      },
      "execution_count": null,
      "outputs": [
        {
          "output_type": "execute_result",
          "data": {
            "text/plain": [
              "<tf.Tensor: shape=(9,), dtype=int32, numpy=array([1, 2, 3, 4, 5, 6, 7, 8, 9], dtype=int32)>"
            ]
          },
          "metadata": {},
          "execution_count": 66
        }
      ]
    },
    {
      "cell_type": "code",
      "source": [
        "tf.square(H)"
      ],
      "metadata": {
        "colab": {
          "base_uri": "https://localhost:8080/"
        },
        "id": "7B5QUo7kdLzy",
        "outputId": "8de4af47-c0dd-4f96-c01f-fb68b105f745"
      },
      "execution_count": null,
      "outputs": [
        {
          "output_type": "execute_result",
          "data": {
            "text/plain": [
              "<tf.Tensor: shape=(9,), dtype=int32, numpy=array([ 1,  4,  9, 16, 25, 36, 49, 64, 81], dtype=int32)>"
            ]
          },
          "metadata": {},
          "execution_count": 67
        }
      ]
    },
    {
      "cell_type": "code",
      "source": [
        "H =tf.cast(H,dtype=tf.float16)"
      ],
      "metadata": {
        "id": "poBEiFVrdL2O"
      },
      "execution_count": null,
      "outputs": []
    },
    {
      "cell_type": "code",
      "source": [
        "tf.sqrt(H)"
      ],
      "metadata": {
        "colab": {
          "base_uri": "https://localhost:8080/"
        },
        "id": "opj5t4tNdL4j",
        "outputId": "9210fa36-7844-4ec6-ba3a-00435ae8cdf6"
      },
      "execution_count": null,
      "outputs": [
        {
          "output_type": "execute_result",
          "data": {
            "text/plain": [
              "<tf.Tensor: shape=(9,), dtype=float16, numpy=\n",
              "array([1.   , 1.414, 1.732, 2.   , 2.236, 2.45 , 2.646, 2.828, 3.   ],\n",
              "      dtype=float16)>"
            ]
          },
          "metadata": {},
          "execution_count": 69
        }
      ]
    },
    {
      "cell_type": "code",
      "source": [
        "tf.math.log(tf.cast(H,dtype=tf.float32))"
      ],
      "metadata": {
        "colab": {
          "base_uri": "https://localhost:8080/"
        },
        "id": "EhoEUquBdL61",
        "outputId": "fe660e2a-5012-4a6e-ff8a-e74002f7d17e"
      },
      "execution_count": null,
      "outputs": [
        {
          "output_type": "execute_result",
          "data": {
            "text/plain": [
              "<tf.Tensor: shape=(9,), dtype=float32, numpy=\n",
              "array([0.       , 0.6931472, 1.0986123, 1.3862944, 1.609438 , 1.7917595,\n",
              "       1.9459102, 2.0794415, 2.1972246], dtype=float32)>"
            ]
          },
          "metadata": {},
          "execution_count": 70
        }
      ]
    },
    {
      "cell_type": "markdown",
      "source": [
        "# Tensorflow interacts beautifully with Numpy Arrays."
      ],
      "metadata": {
        "id": "rQxhqCnEdL9C"
      }
    },
    {
      "cell_type": "code",
      "source": [
        "# Create a tensor directly from a Numpy array\n",
        "J =tf.constant(np.array([3.,7.,10.]))\n",
        "J"
      ],
      "metadata": {
        "colab": {
          "base_uri": "https://localhost:8080/"
        },
        "id": "_mNGT15tdL_a",
        "outputId": "f0825073-0000-4abf-ef84-f9ec59e7067b"
      },
      "execution_count": null,
      "outputs": [
        {
          "output_type": "execute_result",
          "data": {
            "text/plain": [
              "<tf.Tensor: shape=(3,), dtype=float64, numpy=array([ 3.,  7., 10.])>"
            ]
          },
          "metadata": {},
          "execution_count": 71
        }
      ]
    },
    {
      "cell_type": "code",
      "source": [
        "np.array(J),type(np.array(J))"
      ],
      "metadata": {
        "colab": {
          "base_uri": "https://localhost:8080/"
        },
        "id": "WGupuNFudMBz",
        "outputId": "1126ed0f-df9a-4f0e-c07d-033b87d97628"
      },
      "execution_count": null,
      "outputs": [
        {
          "output_type": "execute_result",
          "data": {
            "text/plain": [
              "(array([ 3.,  7., 10.]), numpy.ndarray)"
            ]
          },
          "metadata": {},
          "execution_count": 72
        }
      ]
    },
    {
      "cell_type": "code",
      "source": [
        "#convert tensor j to a numpy array\n",
        "J.numpy(),type(J.numpy())"
      ],
      "metadata": {
        "colab": {
          "base_uri": "https://localhost:8080/"
        },
        "id": "hxXR4n1RdMEF",
        "outputId": "53056570-3746-419b-fe1c-3960a562e776"
      },
      "execution_count": null,
      "outputs": [
        {
          "output_type": "execute_result",
          "data": {
            "text/plain": [
              "(array([ 3.,  7., 10.]), numpy.ndarray)"
            ]
          },
          "metadata": {},
          "execution_count": 73
        }
      ]
    },
    {
      "cell_type": "code",
      "source": [
        "J=tf.constant([3.])\n",
        "J.numpy()[0]"
      ],
      "metadata": {
        "colab": {
          "base_uri": "https://localhost:8080/"
        },
        "id": "tz4MKbbfdMGh",
        "outputId": "bb824613-f53d-4124-a9e9-a4d8f0e6f65e"
      },
      "execution_count": null,
      "outputs": [
        {
          "output_type": "execute_result",
          "data": {
            "text/plain": [
              "3.0"
            ]
          },
          "metadata": {},
          "execution_count": 74
        }
      ]
    },
    {
      "cell_type": "code",
      "source": [
        "# the default types of each are sligthly different\n",
        "numpy_J = tf.constant(np.array([3.,7.,10.]))\n",
        "tensor_J = tf.constant([3.,7.,10.])\n",
        "\n",
        "numpy_J.dtype,tensor_J.dtype"
      ],
      "metadata": {
        "colab": {
          "base_uri": "https://localhost:8080/"
        },
        "id": "NBqZAHjGghb7",
        "outputId": "b99610ed-6c4e-40ce-f6cb-712c8dfb07e9"
      },
      "execution_count": null,
      "outputs": [
        {
          "output_type": "execute_result",
          "data": {
            "text/plain": [
              "(tf.float64, tf.float32)"
            ]
          },
          "metadata": {},
          "execution_count": 75
        }
      ]
    },
    {
      "cell_type": "markdown",
      "source": [
        "# Finding acces to GPU"
      ],
      "metadata": {
        "id": "1jvb8pQVghng"
      }
    },
    {
      "cell_type": "code",
      "source": [
        "import tensorflow as tf\n",
        "tf.config.list_physical_devices(\"GPU\")\n"
      ],
      "metadata": {
        "colab": {
          "base_uri": "https://localhost:8080/"
        },
        "id": "_axJXu6dghwn",
        "outputId": "55f64dd5-0e3b-4aeb-a70b-1e20edbd1275"
      },
      "execution_count": null,
      "outputs": [
        {
          "output_type": "execute_result",
          "data": {
            "text/plain": [
              "[PhysicalDevice(name='/physical_device:GPU:0', device_type='GPU')]"
            ]
          },
          "metadata": {},
          "execution_count": 76
        }
      ]
    },
    {
      "cell_type": "code",
      "source": [
        "!nvidia-smi"
      ],
      "metadata": {
        "colab": {
          "base_uri": "https://localhost:8080/"
        },
        "id": "sQnj0Fdpgh5-",
        "outputId": "c58d1f4f-0321-4680-a004-2ca3b763dd32"
      },
      "execution_count": null,
      "outputs": [
        {
          "output_type": "stream",
          "name": "stdout",
          "text": [
            "Wed Nov 16 07:27:37 2022       \n",
            "+-----------------------------------------------------------------------------+\n",
            "| NVIDIA-SMI 460.32.03    Driver Version: 460.32.03    CUDA Version: 11.2     |\n",
            "|-------------------------------+----------------------+----------------------+\n",
            "| GPU  Name        Persistence-M| Bus-Id        Disp.A | Volatile Uncorr. ECC |\n",
            "| Fan  Temp  Perf  Pwr:Usage/Cap|         Memory-Usage | GPU-Util  Compute M. |\n",
            "|                               |                      |               MIG M. |\n",
            "|===============================+======================+======================|\n",
            "|   0  Tesla T4            Off  | 00000000:00:04.0 Off |                    0 |\n",
            "| N/A   66C    P0    28W /  70W |    480MiB / 15109MiB |      0%      Default |\n",
            "|                               |                      |                  N/A |\n",
            "+-------------------------------+----------------------+----------------------+\n",
            "                                                                               \n",
            "+-----------------------------------------------------------------------------+\n",
            "| Processes:                                                                  |\n",
            "|  GPU   GI   CI        PID   Type   Process name                  GPU Memory |\n",
            "|        ID   ID                                                   Usage      |\n",
            "|=============================================================================|\n",
            "+-----------------------------------------------------------------------------+\n"
          ]
        }
      ]
    },
    {
      "cell_type": "markdown",
      "source": [
        "Excercises"
      ],
      "metadata": {
        "id": "MRQnnmZEgiDg"
      }
    },
    {
      "cell_type": "code",
      "source": [
        "scalar =tf.constant([2])\n",
        "scalar.ndim"
      ],
      "metadata": {
        "colab": {
          "base_uri": "https://localhost:8080/"
        },
        "id": "dGUFjHzQgiML",
        "outputId": "cc6f7c43-4326-4aa9-9ec2-d82c6266413d"
      },
      "execution_count": null,
      "outputs": [
        {
          "output_type": "execute_result",
          "data": {
            "text/plain": [
              "1"
            ]
          },
          "metadata": {},
          "execution_count": 80
        }
      ]
    },
    {
      "cell_type": "code",
      "source": [
        "vector = tf.constant([2,2])\n",
        "vector.ndim"
      ],
      "metadata": {
        "colab": {
          "base_uri": "https://localhost:8080/"
        },
        "id": "Juz4JxK6giVg",
        "outputId": "7f713d58-2047-4144-9ba1-e66cb56d5af0"
      },
      "execution_count": null,
      "outputs": [
        {
          "output_type": "execute_result",
          "data": {
            "text/plain": [
              "1"
            ]
          },
          "metadata": {},
          "execution_count": 82
        }
      ]
    },
    {
      "cell_type": "code",
      "source": [
        "matrix = tf.constant([[2.,3.],\n",
        "                      [4.,5.]])\n",
        "matrix.ndim"
      ],
      "metadata": {
        "colab": {
          "base_uri": "https://localhost:8080/"
        },
        "id": "jvvZOFnwgieU",
        "outputId": "5793ae96-9be3-4e8f-f068-55493a6ac32c"
      },
      "execution_count": null,
      "outputs": [
        {
          "output_type": "execute_result",
          "data": {
            "text/plain": [
              "2"
            ]
          },
          "metadata": {},
          "execution_count": 83
        }
      ]
    },
    {
      "cell_type": "code",
      "source": [
        "vector.shape,matrix.shape,scalar.shape"
      ],
      "metadata": {
        "colab": {
          "base_uri": "https://localhost:8080/"
        },
        "id": "rEH8bNMYdMJC",
        "outputId": "9d46501c-6680-45d6-c9e8-258552702dcf"
      },
      "execution_count": null,
      "outputs": [
        {
          "output_type": "execute_result",
          "data": {
            "text/plain": [
              "(TensorShape([2]), TensorShape([2, 2]), TensorShape([1]))"
            ]
          },
          "metadata": {},
          "execution_count": 84
        }
      ]
    },
    {
      "cell_type": "code",
      "source": [
        "tf.size(vector),tf.size(matrix),tf.size(scalar)"
      ],
      "metadata": {
        "colab": {
          "base_uri": "https://localhost:8080/"
        },
        "id": "WAhN7P_NdMNe",
        "outputId": "656735bd-3ff0-44d8-eea8-cc5193b5cf7f"
      },
      "execution_count": null,
      "outputs": [
        {
          "output_type": "execute_result",
          "data": {
            "text/plain": [
              "(<tf.Tensor: shape=(), dtype=int32, numpy=2>,\n",
              " <tf.Tensor: shape=(), dtype=int32, numpy=4>,\n",
              " <tf.Tensor: shape=(), dtype=int32, numpy=1>)"
            ]
          },
          "metadata": {},
          "execution_count": 85
        }
      ]
    },
    {
      "cell_type": "code",
      "source": [
        "rand_ten = tf.random.uniform(shape=[5,300],minval=0,maxval=1,dtype=tf.float16)\n",
        "rand_ten"
      ],
      "metadata": {
        "colab": {
          "base_uri": "https://localhost:8080/"
        },
        "id": "Za6f24ddXT8Y",
        "outputId": "3662328b-8f72-4d46-8f02-6856d27ed358"
      },
      "execution_count": null,
      "outputs": [
        {
          "output_type": "execute_result",
          "data": {
            "text/plain": [
              "<tf.Tensor: shape=(5, 300), dtype=float16, numpy=\n",
              "array([[0.2852  , 0.05078 , 0.415   , ..., 0.2129  , 0.2197  , 0.7803  ],\n",
              "       [0.2461  , 0.3154  , 0.995   , ..., 0.2666  , 0.959   , 0.2256  ],\n",
              "       [0.02832 , 0.413   , 0.953   , ..., 0.4414  , 0.871   , 0.5674  ],\n",
              "       [0.552   , 0.66    , 0.2969  , ..., 0.4941  , 0.9697  , 0.006836],\n",
              "       [0.549   , 0.042   , 0.02441 , ..., 0.0459  , 0.2109  , 0.543   ]],\n",
              "      dtype=float16)>"
            ]
          },
          "metadata": {},
          "execution_count": 87
        }
      ]
    },
    {
      "cell_type": "code",
      "source": [
        "rand_ten2 = tf.random.uniform(shape=[5,300],minval=0,maxval=1,dtype=tf.float16)\n",
        "rand_ten2"
      ],
      "metadata": {
        "colab": {
          "base_uri": "https://localhost:8080/"
        },
        "id": "EV3h40-DXT-r",
        "outputId": "d729f02e-7d48-4f40-c101-974ba60f9c22"
      },
      "execution_count": null,
      "outputs": [
        {
          "output_type": "execute_result",
          "data": {
            "text/plain": [
              "<tf.Tensor: shape=(5, 300), dtype=float16, numpy=\n",
              "array([[0.9707 , 0.2168 , 0.3008 , ..., 0.1514 , 0.0967 , 0.7617 ],\n",
              "       [0.0625 , 0.5215 , 0.1924 , ..., 0.8486 , 0.498  , 0.1865 ],\n",
              "       [0.0674 , 0.3477 , 0.4922 , ..., 0.3682 , 0.2617 , 0.509  ],\n",
              "       [0.2383 , 0.5596 , 0.00586, ..., 0.6475 , 0.1094 , 0.7617 ],\n",
              "       [0.0918 , 0.871  , 0.462  , ..., 0.675  , 0.1748 , 0.795  ]],\n",
              "      dtype=float16)>"
            ]
          },
          "metadata": {},
          "execution_count": 88
        }
      ]
    },
    {
      "cell_type": "code",
      "source": [
        "tf.matmul(tf.transpose(rand_ten),rand_ten2)"
      ],
      "metadata": {
        "colab": {
          "base_uri": "https://localhost:8080/"
        },
        "id": "lvwtALNgXUBT",
        "outputId": "df857920-3a84-4a24-931d-1916988e3f2f"
      },
      "execution_count": null,
      "outputs": [
        {
          "output_type": "execute_result",
          "data": {
            "text/plain": [
              "<tf.Tensor: shape=(300, 300), dtype=float16, numpy=\n",
              "array([[0.4758, 0.987 , 0.4038, ..., 0.99  , 0.3137, 1.134 ],\n",
              "       [0.258 , 0.725 , 0.3025, ..., 0.8833, 0.3496, 0.8438],\n",
              "       [0.602 , 1.128 , 0.7983, ..., 1.467 , 0.822 , 1.232 ],\n",
              "       ...,\n",
              "       [0.375 , 0.6553, 0.3567, ..., 0.772 , 0.331 , 0.849 ],\n",
              "       [0.5825, 1.577 , 0.782 , ..., 1.938 , 0.8696, 1.695 ],\n",
              "       [0.8613, 0.961 , 0.808 , ..., 0.889 , 0.432 , 1.362 ]],\n",
              "      dtype=float16)>"
            ]
          },
          "metadata": {},
          "execution_count": 90
        }
      ]
    },
    {
      "cell_type": "code",
      "source": [
        "tf.tensordot(rand_ten,tf.transpose(rand_ten2),axes=1)"
      ],
      "metadata": {
        "colab": {
          "base_uri": "https://localhost:8080/"
        },
        "id": "ksv9JltnXUDh",
        "outputId": "f77639b8-2899-4935-81b9-8f612b5f99b5"
      },
      "execution_count": null,
      "outputs": [
        {
          "output_type": "execute_result",
          "data": {
            "text/plain": [
              "<tf.Tensor: shape=(5, 5), dtype=float16, numpy=\n",
              "array([[68.9 , 71.1 , 74.  , 71.3 , 76.2 ],\n",
              "       [74.7 , 76.9 , 78.2 , 76.2 , 79.6 ],\n",
              "       [75.2 , 73.9 , 72.5 , 77.25, 80.44],\n",
              "       [70.3 , 73.25, 71.6 , 71.75, 78.2 ],\n",
              "       [72.1 , 71.2 , 75.  , 73.44, 79.8 ]], dtype=float16)>"
            ]
          },
          "metadata": {},
          "execution_count": 96
        }
      ]
    },
    {
      "cell_type": "code",
      "source": [
        "rand_ten3=tf.random.uniform(shape=[224,224,3],minval=0,maxval=1,dtype=tf.float16)\n",
        "rand_ten3"
      ],
      "metadata": {
        "colab": {
          "base_uri": "https://localhost:8080/"
        },
        "id": "cpjC0-xxXUF5",
        "outputId": "24158105-e8cb-44bd-d2f7-b1368cc6fe79"
      },
      "execution_count": null,
      "outputs": [
        {
          "output_type": "execute_result",
          "data": {
            "text/plain": [
              "<tf.Tensor: shape=(224, 224, 3), dtype=float16, numpy=\n",
              "array([[[0.544   , 0.6943  , 0.4238  ],\n",
              "        [0.798   , 0.2168  , 0.881   ],\n",
              "        [0.7715  , 0.79    , 0.8086  ],\n",
              "        ...,\n",
              "        [0.459   , 0.4014  , 0.5293  ],\n",
              "        [0.9854  , 0.743   , 0.373   ],\n",
              "        [0.752   , 0.632   , 0.9697  ]],\n",
              "\n",
              "       [[0.2021  , 0.589   , 0.006836],\n",
              "        [0.99    , 0.4746  , 0.5674  ],\n",
              "        [0.7324  , 0.829   , 0.6064  ],\n",
              "        ...,\n",
              "        [0.583   , 0.5645  , 0.46    ],\n",
              "        [0.9473  , 0.8984  , 0.8545  ],\n",
              "        [0.4922  , 0.793   , 0.05078 ]],\n",
              "\n",
              "       [[0.5938  , 0.08887 , 0.7246  ],\n",
              "        [0.6133  , 0.03125 , 0.2217  ],\n",
              "        [0.5645  , 0.55    , 0.833   ],\n",
              "        ...,\n",
              "        [0.885   , 0.03516 , 0.877   ],\n",
              "        [0.02832 , 0.2705  , 0.995   ],\n",
              "        [0.3652  , 0.4814  , 0.0459  ]],\n",
              "\n",
              "       ...,\n",
              "\n",
              "       [[0.1787  , 0.03223 , 0.01953 ],\n",
              "        [0.962   , 0.2158  , 0.167   ],\n",
              "        [0.1533  , 0.2363  , 0.576   ],\n",
              "        ...,\n",
              "        [0.084   , 0.5986  , 0.6777  ],\n",
              "        [0.2451  , 0.02539 , 0.9844  ],\n",
              "        [0.532   , 0.7715  , 0.1631  ]],\n",
              "\n",
              "       [[0.6953  , 0.2617  , 0.1074  ],\n",
              "        [0.551   , 0.504   , 0.338   ],\n",
              "        [0.4912  , 0.3564  , 0.0293  ],\n",
              "        ...,\n",
              "        [0.755   , 0.05664 , 0.5703  ],\n",
              "        [0.9043  , 0.4697  , 0.552   ],\n",
              "        [0.592   , 0.8955  , 0.756   ]],\n",
              "\n",
              "       [[0.8145  , 0.5156  , 0.6953  ],\n",
              "        [0.1426  , 0.997   , 0.0869  ],\n",
              "        [0.6787  , 0.8193  , 0.8447  ],\n",
              "        ...,\n",
              "        [0.7812  , 0.702   , 0.3984  ],\n",
              "        [0.7197  , 0.9746  , 0.1963  ],\n",
              "        [0.626   , 0.965   , 0.3809  ]]], dtype=float16)>"
            ]
          },
          "metadata": {},
          "execution_count": 98
        }
      ]
    },
    {
      "cell_type": "code",
      "source": [
        "tf.reduce_max(rand_ten3),tf.reduce_min(rand_ten3)"
      ],
      "metadata": {
        "colab": {
          "base_uri": "https://localhost:8080/"
        },
        "id": "-x9QDM75XUIW",
        "outputId": "d02748f9-7946-4134-aabc-6553b66de779"
      },
      "execution_count": null,
      "outputs": [
        {
          "output_type": "execute_result",
          "data": {
            "text/plain": [
              "(<tf.Tensor: shape=(), dtype=float16, numpy=0.999>,\n",
              " <tf.Tensor: shape=(), dtype=float16, numpy=0.0>)"
            ]
          },
          "metadata": {},
          "execution_count": 100
        }
      ]
    },
    {
      "cell_type": "code",
      "source": [
        "rand_tan4=tf.random.normal(shape=[1,224,224,3])"
      ],
      "metadata": {
        "id": "jlZMeTmPXUNT"
      },
      "execution_count": null,
      "outputs": []
    },
    {
      "cell_type": "code",
      "source": [
        "tf.expand_dims(rand_tan4,axis=1)"
      ],
      "metadata": {
        "colab": {
          "base_uri": "https://localhost:8080/"
        },
        "id": "8KLpKHvKXUPn",
        "outputId": "25782df1-de0a-46b4-9b6b-eb8b0a7951db"
      },
      "execution_count": null,
      "outputs": [
        {
          "output_type": "execute_result",
          "data": {
            "text/plain": [
              "<tf.Tensor: shape=(1, 1, 224, 224, 3), dtype=float32, numpy=\n",
              "array([[[[[-0.20061125, -1.2735859 ,  0.48410097],\n",
              "          [ 1.0793499 , -0.7919145 , -1.1943494 ],\n",
              "          [ 0.52293056, -0.27564594,  1.2653892 ],\n",
              "          ...,\n",
              "          [ 0.03671204,  0.13371521,  0.3438076 ],\n",
              "          [-0.02921118, -0.3710733 , -0.17355324],\n",
              "          [ 1.183075  , -0.13284424,  0.05984893]],\n",
              "\n",
              "         [[-0.22825915, -0.05496023,  1.6530225 ],\n",
              "          [-0.21462522,  0.9223665 , -0.0250279 ],\n",
              "          [-1.2404958 , -0.93333966, -0.99086046],\n",
              "          ...,\n",
              "          [-1.4904907 ,  0.21620868,  0.3516236 ],\n",
              "          [-0.45555973,  0.8891502 ,  1.2562852 ],\n",
              "          [ 0.9425552 , -2.4124134 ,  1.0030372 ]],\n",
              "\n",
              "         [[ 0.02305125,  0.45591623, -1.6428787 ],\n",
              "          [-0.34548786,  0.4305284 ,  0.09746896],\n",
              "          [-0.03441285,  0.6688774 , -1.135134  ],\n",
              "          ...,\n",
              "          [ 0.16547878,  0.09162426, -0.63121545],\n",
              "          [-2.260828  , -0.22484669,  1.4544208 ],\n",
              "          [-0.1619715 ,  0.3815447 , -1.3360683 ]],\n",
              "\n",
              "         ...,\n",
              "\n",
              "         [[ 0.105788  ,  1.8263323 ,  0.40972486],\n",
              "          [ 0.736159  , -0.6910762 , -0.84795415],\n",
              "          [-1.7425458 , -0.72630554,  0.1944376 ],\n",
              "          ...,\n",
              "          [-1.8805205 ,  0.47031215,  0.95433176],\n",
              "          [ 2.1665096 ,  0.7731071 , -1.4448777 ],\n",
              "          [-0.59804916,  0.6220158 , -0.48079637]],\n",
              "\n",
              "         [[-1.3686321 , -0.6519212 ,  1.4534432 ],\n",
              "          [-0.32028282,  1.4690919 ,  1.4576358 ],\n",
              "          [ 1.1098073 , -1.5584737 ,  1.1352081 ],\n",
              "          ...,\n",
              "          [ 0.39983875,  1.8801987 , -0.93505865],\n",
              "          [ 1.2002183 ,  1.5473212 , -1.0298231 ],\n",
              "          [ 0.5815287 ,  0.9697189 ,  0.58960336]],\n",
              "\n",
              "         [[ 0.8646867 , -0.17538808,  0.6538647 ],\n",
              "          [ 0.1330918 , -0.68359154,  0.47258756],\n",
              "          [ 0.33916503, -0.1870082 , -0.5580922 ],\n",
              "          ...,\n",
              "          [-0.8098956 , -0.814642  , -0.03688067],\n",
              "          [-0.9872402 ,  0.8048886 , -0.03231237],\n",
              "          [ 1.8738368 , -1.2886716 , -1.9113508 ]]]]], dtype=float32)>"
            ]
          },
          "metadata": {},
          "execution_count": 119
        }
      ]
    },
    {
      "cell_type": "code",
      "source": [
        "rand_ten5=tf.random.normal([10])\n",
        "rand_ten5"
      ],
      "metadata": {
        "colab": {
          "base_uri": "https://localhost:8080/"
        },
        "id": "qNWf_229XURp",
        "outputId": "c0444f83-7434-4c3b-87b6-9c45fb16e9c2"
      },
      "execution_count": null,
      "outputs": [
        {
          "output_type": "execute_result",
          "data": {
            "text/plain": [
              "<tf.Tensor: shape=(10,), dtype=float32, numpy=\n",
              "array([-1.5440758 ,  1.3154335 ,  0.7808076 ,  1.0706283 , -0.9656791 ,\n",
              "        0.25132164, -1.8545105 ,  1.4713811 , -0.7334912 , -0.344911  ],\n",
              "      dtype=float32)>"
            ]
          },
          "metadata": {},
          "execution_count": 122
        }
      ]
    },
    {
      "cell_type": "code",
      "source": [
        "rand_ten5[tf.argmax(rand_ten5)],tf.argmax(rand_ten5)"
      ],
      "metadata": {
        "colab": {
          "base_uri": "https://localhost:8080/"
        },
        "id": "Inf8iREteLgY",
        "outputId": "48ee1909-385e-48e5-a2c3-d2a263b76dd5"
      },
      "execution_count": null,
      "outputs": [
        {
          "output_type": "execute_result",
          "data": {
            "text/plain": [
              "(<tf.Tensor: shape=(), dtype=float32, numpy=1.4713811>,\n",
              " <tf.Tensor: shape=(), dtype=int64, numpy=7>)"
            ]
          },
          "metadata": {},
          "execution_count": 124
        }
      ]
    },
    {
      "cell_type": "code",
      "source": [
        "rand_ten5[tf.argmin(rand_ten5)],tf.argmin(rand_ten5)"
      ],
      "metadata": {
        "colab": {
          "base_uri": "https://localhost:8080/"
        },
        "id": "2-ysPVnDeLi0",
        "outputId": "f59afead-36a8-4938-fb4d-e417511f5bdc"
      },
      "execution_count": null,
      "outputs": [
        {
          "output_type": "execute_result",
          "data": {
            "text/plain": [
              "(<tf.Tensor: shape=(), dtype=float32, numpy=-1.8545105>,\n",
              " <tf.Tensor: shape=(), dtype=int64, numpy=6>)"
            ]
          },
          "metadata": {},
          "execution_count": 125
        }
      ]
    },
    {
      "cell_type": "code",
      "source": [
        "tf.one_hot(tf.cast(rand_ten5,dtype=tf.int32),depth=10)"
      ],
      "metadata": {
        "colab": {
          "base_uri": "https://localhost:8080/"
        },
        "id": "gkXirq6beLlN",
        "outputId": "4b741b51-94f3-436b-bf0a-c8c4a8158da6"
      },
      "execution_count": null,
      "outputs": [
        {
          "output_type": "execute_result",
          "data": {
            "text/plain": [
              "<tf.Tensor: shape=(10, 10), dtype=float32, numpy=\n",
              "array([[0., 0., 0., 0., 0., 0., 0., 0., 0., 0.],\n",
              "       [0., 1., 0., 0., 0., 0., 0., 0., 0., 0.],\n",
              "       [1., 0., 0., 0., 0., 0., 0., 0., 0., 0.],\n",
              "       [0., 1., 0., 0., 0., 0., 0., 0., 0., 0.],\n",
              "       [1., 0., 0., 0., 0., 0., 0., 0., 0., 0.],\n",
              "       [1., 0., 0., 0., 0., 0., 0., 0., 0., 0.],\n",
              "       [0., 0., 0., 0., 0., 0., 0., 0., 0., 0.],\n",
              "       [0., 1., 0., 0., 0., 0., 0., 0., 0., 0.],\n",
              "       [1., 0., 0., 0., 0., 0., 0., 0., 0., 0.],\n",
              "       [1., 0., 0., 0., 0., 0., 0., 0., 0., 0.]], dtype=float32)>"
            ]
          },
          "metadata": {},
          "execution_count": 129
        }
      ]
    },
    {
      "cell_type": "code",
      "source": [
        "grocery=tf.constant([23,46.6,29,100,34,57.5])\n",
        "grocery\n",
        "tf.reduce_sum(grocery)*12"
      ],
      "metadata": {
        "colab": {
          "base_uri": "https://localhost:8080/"
        },
        "id": "UQc5xCaqeLnr",
        "outputId": "e6e731bd-d401-437d-f31c-a2507e89a6ad"
      },
      "execution_count": null,
      "outputs": [
        {
          "output_type": "execute_result",
          "data": {
            "text/plain": [
              "<tf.Tensor: shape=(), dtype=float32, numpy=3481.2002>"
            ]
          },
          "metadata": {},
          "execution_count": 133
        }
      ]
    }
  ]
}